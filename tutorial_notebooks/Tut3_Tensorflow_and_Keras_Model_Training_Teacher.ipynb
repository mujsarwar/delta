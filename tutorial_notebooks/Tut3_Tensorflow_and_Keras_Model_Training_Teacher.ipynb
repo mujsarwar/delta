{
 "cells": [
  {
   "cell_type": "markdown",
   "metadata": {},
   "source": [
    "# Tutorial 3 - Introduction to Tensorflow and Keras\n",
    "\n",
    "In the lectures, so far you have covered foundations of neural networks, which include training of deep learning models, overfitting in neural networks and model tuning. Therefore, in today's tutorial notebook we will revisit the training of neural networks with two libraries, i.e., tensorflow and keras. Tensorflow is among the most popular and powerful deep learning frameworks, which offers great flexibility for model development from scratch. While tensorflow offers complete control over deep customization, keras represents the high-level API of the plattform of tensorflow. Keras is a multi-framework deep learning API, which is compatible with pytroch and jax in addition to tensorflow. Overall, keras' API is very easy to use, and thus, model implementation with keras is less challenging than with tensorflow. This comes at the cost of less control over the deep learning model implementation. Since both libraries have their advantages and disadvantages, in today's tutorial we will cover both.\n",
    "\n",
    "Here is the outline of today's notebook:\n",
    "*   Brief introduction of a new house pricing dataset. \n",
    "*   Deep neural network training with tensorflow (Demo). \n",
    "*   Implementation of deep feed-forward regression neural network using keras (Excercise 1).\n",
    "*   Tuning of deep feed-forward regression neural networks using kerastuner (Excercise 2)."
   ]
  },
  {
   "cell_type": "markdown",
   "metadata": {},
   "source": [
    "## **1. Ames House Pricing Dataset**"
   ]
  },
  {
   "cell_type": "code",
   "execution_count": 3,
   "metadata": {},
   "outputs": [],
   "source": [
    "import numpy as np\n",
    "import tensorflow as tf\n",
    "import matplotlib.pyplot as plt\n",
    "from sklearn.preprocessing import StandardScaler \n",
    "import pandas as pd"
   ]
  },
  {
   "cell_type": "markdown",
   "metadata": {},
   "source": [
    "In this excercise session, we will work with a new house pricing dataset, in which each data sample is related to a single house in Ames, Iowa in the USA. Each property is characterized by 17 features. The latter provide information about the following:\n",
    "| Variable | Description |\n",
    "|---|---|\n",
    "| LotFrontage | Linear feet of street connected to property |\n",
    "| MasVnrArea | Masonry veneer area in square feet |\n",
    "| BsmtFinSF1 | Square feet of basement that has been finished to a high standard, <br>often suitable for living quarters like a bedroom or a living area.|\n",
    "| TotalBsmtSF | Total square feet of basement area |\n",
    "| 1stFlrSF | First Floor square feet |\n",
    "| 2ndFlrSF | Second Floor square feet |\n",
    "| GrLivArea | Above grade (ground) living area square feet |\n",
    "| FullBath |  Number of bathrooms in the main part of the house |\n",
    "| TotRmsAbvGrd | Number of rooms of main house part, excl. bathrooms |\n",
    "| Fireplaces | Number of fireplaces |\n",
    "| GarageCars | Size of garage in car capacity |\n",
    "| GarageArea | Size of garage in square feet |\n",
    "| WoodDeckSF | Wood deck area in square feet |  \n",
    "| OpenPorchSF | Open porch area in square feet |\n",
    "| YearsSinceBuilt | Number of Years since the house was built |\n",
    "| YearsSinceRemodling | Number of years since last house remodeling |\n",
    "| YearsSincegarageBuilt | Number of years since garage was built |  \n",
    "\n",
    "The SalePrice feature in the data is our target variable, i.e., the sale price of each property in dollars. \n"
   ]
  },
  {
   "cell_type": "code",
   "execution_count": 4,
   "metadata": {},
   "outputs": [],
   "source": [
    "#THIS CODING CELL WILL NOT BE PART OF THE NOTEBOOK: after we agree on the dataset, I will upload its clean version to github, and will import the data directly from github.\n",
    "#Source of the whole dataset: https://www.kaggle.com/competitions/house-prices-advanced-regression-techniques/data?select=train.csv\n",
    "#For the excercise session we will be working with a reduced number of features:\n",
    "\n",
    "house_prices=pd.read_csv('Ames_House_Prices.csv',header=0)\n",
    "#Create Years since columns:\n",
    "house_prices['YearsSinceBuilt']=2025-house_prices['YearBuilt']\n",
    "house_prices=house_prices.drop(['YearBuilt','OverallQual',],axis=1)\n",
    "\n",
    "house_prices['YearsSinceRemodeling']=2025-house_prices['YearRemodAdd']\n",
    "house_prices=house_prices.drop(['YearRemodAdd'],axis=1)\n",
    "\n",
    "house_prices['YearsSincegarageBuilt']=2025-house_prices['GarageYrBlt']\n",
    "house_prices=house_prices.drop(['GarageYrBlt'],axis=1)\n",
    "\n",
    "target_var_correlation=house_prices.corr('pearson')[['SalePrice']]\n",
    "#Filter out numerical features based on pearson correlation of +-30%:\n",
    "columns=list(target_var_correlation[np.abs(target_var_correlation['SalePrice'])>0.3].index)\n",
    "\n",
    "house_prices=house_prices[columns]\n",
    "#Drop Nans and duplicated observations if any:\n",
    "house_prices=house_prices.dropna()\n",
    "house_prices=house_prices.drop_duplicates(keep='first')"
   ]
  },
  {
   "cell_type": "markdown",
   "metadata": {},
   "source": [
    "Before we move on predictive modeling, we will do some EDA on our new dataset. First, let's examine the distribution of our target variable and the correlation of the predictor features with our target."
   ]
  },
  {
   "cell_type": "code",
   "execution_count": 54,
   "metadata": {},
   "outputs": [
    {
     "data": {
      "image/png": "[encoded data removed]",
      "text/plain": [
       "<Figure size 600x400 with 1 Axes>"
      ]
     },
     "metadata": {},
     "output_type": "display_data"
    }
   ],
   "source": [
    "#Distribution of the target variable:\n",
    "plt.figure(figsize=(6,4))\n",
    "plt.hist(house_prices['SalePrice'])\n",
    "plt.xlabel('Binned Sales Prices')\n",
    "plt.ylabel('Frequency')\n",
    "plt.title('Distribution of Sales Prices in Ames')\n",
    "plt.show()\n",
    "plt.close()"
   ]
  },
  {
   "cell_type": "markdown",
   "metadata": {},
   "source": [
    "The distribution of the house prices is right-skewed with long tails on the right side indicating that only a few houses have a sale price of higher than 500k-600k."
   ]
  },
  {
   "cell_type": "code",
   "execution_count": 55,
   "metadata": {},
   "outputs": [
    {
     "data": {
      "text/html": [
       "<div>\n",
       "<style scoped>\n",
       "    .dataframe tbody tr th:only-of-type {\n",
       "        vertical-align: middle;\n",
       "    }\n",
       "\n",
       "    .dataframe tbody tr th {\n",
       "        vertical-align: top;\n",
       "    }\n",
       "\n",
       "    .dataframe thead th {\n",
       "        text-align: right;\n",
       "    }\n",
       "</style>\n",
       "<table border=\"1\" class=\"dataframe\">\n",
       "  <thead>\n",
       "    <tr style=\"text-align: right;\">\n",
       "      <th></th>\n",
       "      <th>LotFrontage</th>\n",
       "      <th>MasVnrArea</th>\n",
       "      <th>BsmtFinSF1</th>\n",
       "      <th>TotalBsmtSF</th>\n",
       "      <th>1stFlrSF</th>\n",
       "      <th>2ndFlrSF</th>\n",
       "      <th>GrLivArea</th>\n",
       "      <th>FullBath</th>\n",
       "      <th>TotRmsAbvGrd</th>\n",
       "      <th>Fireplaces</th>\n",
       "      <th>GarageCars</th>\n",
       "      <th>GarageArea</th>\n",
       "      <th>WoodDeckSF</th>\n",
       "      <th>OpenPorchSF</th>\n",
       "      <th>YearsSinceBuilt</th>\n",
       "      <th>YearsSinceRemodling</th>\n",
       "      <th>YearsSincegarageBuilt</th>\n",
       "    </tr>\n",
       "  </thead>\n",
       "  <tbody>\n",
       "    <tr>\n",
       "      <th>SalePrice</th>\n",
       "      <td>0.34427</td>\n",
       "      <td>0.488658</td>\n",
       "      <td>0.390301</td>\n",
       "      <td>0.615612</td>\n",
       "      <td>0.607969</td>\n",
       "      <td>0.306879</td>\n",
       "      <td>0.705154</td>\n",
       "      <td>0.566627</td>\n",
       "      <td>0.547067</td>\n",
       "      <td>0.461873</td>\n",
       "      <td>0.647034</td>\n",
       "      <td>0.61933</td>\n",
       "      <td>0.336855</td>\n",
       "      <td>0.343354</td>\n",
       "      <td>-0.525394</td>\n",
       "      <td>-0.521253</td>\n",
       "      <td>-0.504753</td>\n",
       "    </tr>\n",
       "  </tbody>\n",
       "</table>\n",
       "</div>"
      ],
      "text/plain": [
       "           LotFrontage  MasVnrArea  BsmtFinSF1  TotalBsmtSF  1stFlrSF  \\\n",
       "SalePrice      0.34427    0.488658    0.390301     0.615612  0.607969   \n",
       "\n",
       "           2ndFlrSF  GrLivArea  FullBath  TotRmsAbvGrd  Fireplaces  \\\n",
       "SalePrice  0.306879   0.705154  0.566627      0.547067    0.461873   \n",
       "\n",
       "           GarageCars  GarageArea  WoodDeckSF  OpenPorchSF  YearsSinceBuilt  \\\n",
       "SalePrice    0.647034     0.61933    0.336855     0.343354        -0.525394   \n",
       "\n",
       "           YearsSinceRemodling  YearsSincegarageBuilt  \n",
       "SalePrice            -0.521253              -0.504753  "
      ]
     },
     "execution_count": 55,
     "metadata": {},
     "output_type": "execute_result"
    }
   ],
   "source": [
    "# Correlations with the target varibale:\n",
    "house_prices.corr('pearson')[['SalePrice']].drop(['SalePrice'],axis=0).T"
   ]
  },
  {
   "cell_type": "markdown",
   "metadata": {},
   "source": [
    "The pairwise pearson correlation with the target variable shows that 7 our 17 features have a correlation lower than +/-50%. A low linear pairwise correlation with the target variable does not necessarily mean that these 7 features are completely useless, as these variables might hold predictive power, e.g., in combination with the remaining features. Nonetheless, a low correlation with the target is a good indication that we might have to consider applying regularization techniques during the model training phase to prevent the model from learning information, which could potentially be unneccessary. Next, we will examine the descriptive statistics of the variables in our dataset:"
   ]
  },
  {
   "cell_type": "code",
   "execution_count": 52,
   "metadata": {},
   "outputs": [
    {
     "data": {
      "text/html": [
       "<div>\n",
       "<style scoped>\n",
       "    .dataframe tbody tr th:only-of-type {\n",
       "        vertical-align: middle;\n",
       "    }\n",
       "\n",
       "    .dataframe tbody tr th {\n",
       "        vertical-align: top;\n",
       "    }\n",
       "\n",
       "    .dataframe thead th {\n",
       "        text-align: right;\n",
       "    }\n",
       "</style>\n",
       "<table border=\"1\" class=\"dataframe\">\n",
       "  <thead>\n",
       "    <tr style=\"text-align: right;\">\n",
       "      <th></th>\n",
       "      <th>LotFrontage</th>\n",
       "      <th>MasVnrArea</th>\n",
       "      <th>BsmtFinSF1</th>\n",
       "      <th>TotalBsmtSF</th>\n",
       "      <th>1stFlrSF</th>\n",
       "      <th>2ndFlrSF</th>\n",
       "      <th>GrLivArea</th>\n",
       "      <th>FullBath</th>\n",
       "      <th>TotRmsAbvGrd</th>\n",
       "      <th>Fireplaces</th>\n",
       "      <th>GarageCars</th>\n",
       "      <th>GarageArea</th>\n",
       "      <th>WoodDeckSF</th>\n",
       "      <th>OpenPorchSF</th>\n",
       "      <th>SalePrice</th>\n",
       "      <th>YearsSinceBuilt</th>\n",
       "      <th>YearsSinceRemodling</th>\n",
       "      <th>YearsSincegarageBuilt</th>\n",
       "    </tr>\n",
       "  </thead>\n",
       "  <tbody>\n",
       "    <tr>\n",
       "      <th>count</th>\n",
       "      <td>1121.000000</td>\n",
       "      <td>1121.000000</td>\n",
       "      <td>1121.000000</td>\n",
       "      <td>1121.000000</td>\n",
       "      <td>1121.000000</td>\n",
       "      <td>1121.000000</td>\n",
       "      <td>1121.000000</td>\n",
       "      <td>1121.000000</td>\n",
       "      <td>1121.000000</td>\n",
       "      <td>1121.000000</td>\n",
       "      <td>1121.000000</td>\n",
       "      <td>1121.000000</td>\n",
       "      <td>1121.000000</td>\n",
       "      <td>1121.000000</td>\n",
       "      <td>1121.000000</td>\n",
       "      <td>1121.000000</td>\n",
       "      <td>1121.000000</td>\n",
       "      <td>1121.000000</td>\n",
       "    </tr>\n",
       "    <tr>\n",
       "      <th>mean</th>\n",
       "      <td>70.665477</td>\n",
       "      <td>108.487957</td>\n",
       "      <td>438.399643</td>\n",
       "      <td>1077.115076</td>\n",
       "      <td>1173.584300</td>\n",
       "      <td>353.258698</td>\n",
       "      <td>1531.411240</td>\n",
       "      <td>1.580731</td>\n",
       "      <td>6.576271</td>\n",
       "      <td>0.603925</td>\n",
       "      <td>1.878680</td>\n",
       "      <td>502.955397</td>\n",
       "      <td>92.610169</td>\n",
       "      <td>46.130241</td>\n",
       "      <td>185506.152542</td>\n",
       "      <td>52.735058</td>\n",
       "      <td>39.316682</td>\n",
       "      <td>46.600357</td>\n",
       "    </tr>\n",
       "    <tr>\n",
       "      <th>std</th>\n",
       "      <td>24.266812</td>\n",
       "      <td>189.500966</td>\n",
       "      <td>468.385038</td>\n",
       "      <td>445.656500</td>\n",
       "      <td>386.174253</td>\n",
       "      <td>438.561788</td>\n",
       "      <td>523.723899</td>\n",
       "      <td>0.550117</td>\n",
       "      <td>1.591195</td>\n",
       "      <td>0.632556</td>\n",
       "      <td>0.654313</td>\n",
       "      <td>191.243043</td>\n",
       "      <td>121.868623</td>\n",
       "      <td>64.390029</td>\n",
       "      <td>82999.159004</td>\n",
       "      <td>30.967730</td>\n",
       "      <td>21.025974</td>\n",
       "      <td>25.822833</td>\n",
       "    </tr>\n",
       "    <tr>\n",
       "      <th>min</th>\n",
       "      <td>21.000000</td>\n",
       "      <td>0.000000</td>\n",
       "      <td>0.000000</td>\n",
       "      <td>0.000000</td>\n",
       "      <td>438.000000</td>\n",
       "      <td>0.000000</td>\n",
       "      <td>438.000000</td>\n",
       "      <td>0.000000</td>\n",
       "      <td>3.000000</td>\n",
       "      <td>0.000000</td>\n",
       "      <td>1.000000</td>\n",
       "      <td>160.000000</td>\n",
       "      <td>0.000000</td>\n",
       "      <td>0.000000</td>\n",
       "      <td>35311.000000</td>\n",
       "      <td>15.000000</td>\n",
       "      <td>15.000000</td>\n",
       "      <td>15.000000</td>\n",
       "    </tr>\n",
       "    <tr>\n",
       "      <th>25%</th>\n",
       "      <td>60.000000</td>\n",
       "      <td>0.000000</td>\n",
       "      <td>0.000000</td>\n",
       "      <td>803.000000</td>\n",
       "      <td>894.000000</td>\n",
       "      <td>0.000000</td>\n",
       "      <td>1155.000000</td>\n",
       "      <td>1.000000</td>\n",
       "      <td>5.000000</td>\n",
       "      <td>0.000000</td>\n",
       "      <td>1.000000</td>\n",
       "      <td>360.000000</td>\n",
       "      <td>0.000000</td>\n",
       "      <td>0.000000</td>\n",
       "      <td>131000.000000</td>\n",
       "      <td>22.000000</td>\n",
       "      <td>20.000000</td>\n",
       "      <td>22.000000</td>\n",
       "    </tr>\n",
       "    <tr>\n",
       "      <th>50%</th>\n",
       "      <td>70.000000</td>\n",
       "      <td>0.000000</td>\n",
       "      <td>374.000000</td>\n",
       "      <td>1008.000000</td>\n",
       "      <td>1097.000000</td>\n",
       "      <td>0.000000</td>\n",
       "      <td>1479.000000</td>\n",
       "      <td>2.000000</td>\n",
       "      <td>6.000000</td>\n",
       "      <td>1.000000</td>\n",
       "      <td>2.000000</td>\n",
       "      <td>484.000000</td>\n",
       "      <td>0.000000</td>\n",
       "      <td>27.000000</td>\n",
       "      <td>164900.000000</td>\n",
       "      <td>51.000000</td>\n",
       "      <td>30.000000</td>\n",
       "      <td>44.000000</td>\n",
       "    </tr>\n",
       "    <tr>\n",
       "      <th>75%</th>\n",
       "      <td>80.000000</td>\n",
       "      <td>170.000000</td>\n",
       "      <td>702.000000</td>\n",
       "      <td>1324.000000</td>\n",
       "      <td>1411.000000</td>\n",
       "      <td>728.000000</td>\n",
       "      <td>1776.000000</td>\n",
       "      <td>2.000000</td>\n",
       "      <td>7.000000</td>\n",
       "      <td>1.000000</td>\n",
       "      <td>2.000000</td>\n",
       "      <td>600.000000</td>\n",
       "      <td>168.000000</td>\n",
       "      <td>68.000000</td>\n",
       "      <td>219500.000000</td>\n",
       "      <td>72.000000</td>\n",
       "      <td>59.000000</td>\n",
       "      <td>66.000000</td>\n",
       "    </tr>\n",
       "    <tr>\n",
       "      <th>max</th>\n",
       "      <td>313.000000</td>\n",
       "      <td>1600.000000</td>\n",
       "      <td>5644.000000</td>\n",
       "      <td>6110.000000</td>\n",
       "      <td>4692.000000</td>\n",
       "      <td>2065.000000</td>\n",
       "      <td>5642.000000</td>\n",
       "      <td>3.000000</td>\n",
       "      <td>12.000000</td>\n",
       "      <td>3.000000</td>\n",
       "      <td>4.000000</td>\n",
       "      <td>1418.000000</td>\n",
       "      <td>857.000000</td>\n",
       "      <td>547.000000</td>\n",
       "      <td>755000.000000</td>\n",
       "      <td>145.000000</td>\n",
       "      <td>75.000000</td>\n",
       "      <td>125.000000</td>\n",
       "    </tr>\n",
       "  </tbody>\n",
       "</table>\n",
       "</div>"
      ],
      "text/plain": [
       "       LotFrontage   MasVnrArea   BsmtFinSF1  TotalBsmtSF     1stFlrSF  \\\n",
       "count  1121.000000  1121.000000  1121.000000  1121.000000  1121.000000   \n",
       "mean     70.665477   108.487957   438.399643  1077.115076  1173.584300   \n",
       "std      24.266812   189.500966   468.385038   445.656500   386.174253   \n",
       "min      21.000000     0.000000     0.000000     0.000000   438.000000   \n",
       "25%      60.000000     0.000000     0.000000   803.000000   894.000000   \n",
       "50%      70.000000     0.000000   374.000000  1008.000000  1097.000000   \n",
       "75%      80.000000   170.000000   702.000000  1324.000000  1411.000000   \n",
       "max     313.000000  1600.000000  5644.000000  6110.000000  4692.000000   \n",
       "\n",
       "          2ndFlrSF    GrLivArea     FullBath  TotRmsAbvGrd   Fireplaces  \\\n",
       "count  1121.000000  1121.000000  1121.000000   1121.000000  1121.000000   \n",
       "mean    353.258698  1531.411240     1.580731      6.576271     0.603925   \n",
       "std     438.561788   523.723899     0.550117      1.591195     0.632556   \n",
       "min       0.000000   438.000000     0.000000      3.000000     0.000000   \n",
       "25%       0.000000  1155.000000     1.000000      5.000000     0.000000   \n",
       "50%       0.000000  1479.000000     2.000000      6.000000     1.000000   \n",
       "75%     728.000000  1776.000000     2.000000      7.000000     1.000000   \n",
       "max    2065.000000  5642.000000     3.000000     12.000000     3.000000   \n",
       "\n",
       "        GarageCars   GarageArea   WoodDeckSF  OpenPorchSF      SalePrice  \\\n",
       "count  1121.000000  1121.000000  1121.000000  1121.000000    1121.000000   \n",
       "mean      1.878680   502.955397    92.610169    46.130241  185506.152542   \n",
       "std       0.654313   191.243043   121.868623    64.390029   82999.159004   \n",
       "min       1.000000   160.000000     0.000000     0.000000   35311.000000   \n",
       "25%       1.000000   360.000000     0.000000     0.000000  131000.000000   \n",
       "50%       2.000000   484.000000     0.000000    27.000000  164900.000000   \n",
       "75%       2.000000   600.000000   168.000000    68.000000  219500.000000   \n",
       "max       4.000000  1418.000000   857.000000   547.000000  755000.000000   \n",
       "\n",
       "       YearsSinceBuilt  YearsSinceRemodling  YearsSincegarageBuilt  \n",
       "count      1121.000000          1121.000000            1121.000000  \n",
       "mean         52.735058            39.316682              46.600357  \n",
       "std          30.967730            21.025974              25.822833  \n",
       "min          15.000000            15.000000              15.000000  \n",
       "25%          22.000000            20.000000              22.000000  \n",
       "50%          51.000000            30.000000              44.000000  \n",
       "75%          72.000000            59.000000              66.000000  \n",
       "max         145.000000            75.000000             125.000000  "
      ]
     },
     "execution_count": 52,
     "metadata": {},
     "output_type": "execute_result"
    }
   ],
   "source": [
    "house_prices.describe()"
   ]
  },
  {
   "cell_type": "markdown",
   "metadata": {},
   "source": [
    "Since there is a big variation in the mean and the standard deviation of the features, we would rescale our dataset to avoid the model ignoring features with a narrow range of input values during the training process. We will also standardize our target variable, as otherwise we might face the problem of exploding loss values, which would lead to large gradients. The latter would in turn destabilize the training process. "
   ]
  },
  {
   "cell_type": "markdown",
   "metadata": {},
   "source": [
    "## **2. Deep Neural Network Training with Tensorflow** (DEMO)"
   ]
  },
  {
   "cell_type": "markdown",
   "metadata": {},
   "source": [
    "First, let's revisit the mains steps of the training process of deep neural networks, using the below illustration: <br>"
   ]
  },
  {
   "cell_type": "markdown",
   "metadata": {},
   "source": [
    "<img src=\"https://github.com/Humboldt-WI/demopy/raw/main/Training_Neural_Networks.PNG\" width=\"1150\" height=\"620\" alt=\"Neural Network Training\">"
   ]
  },
  {
   "cell_type": "markdown",
   "metadata": {},
   "source": [
    "Before the model training begins, the initialization of the trainable weights takes place. In the above visualization, the trainable weights are drawn from standard normal distribution. However, drawing weights from this distribution, when building very deep networks with specific nonlinear activation functions can cause problems during the training process. For instance, with bounded activations, e.g., tanh and sigmoid, high negative or positive values get squashed to the lower and upper bound, i.e., the neuron values saturate. When saturated, activations kill the gradients as the flat regions of bounded activations receive gradients close to 0.0. The higher the percentage of saturated neurons, the less the neural network is learning during the training process. In most cases, when drawing random values from a standard normal distribution, the minimum and maximum range of the sampled values is in [-3.5,+3.5]. In case of tanh, input values in the range [-2.2,-3] and [+2.2,+3] end up in the saturation regions. Thus, drawing weights from standard normal distribution is not ideal as it produces values with rather high magnitude for model initialization purposes!. Reserach studies dealing with initialization methods for neural networks have come to the following conclusions:<br>\n",
    "- for **bounded activations**: use **Xavier weight initialization**, or also called glorot_normal or glorot_uniform in tensorflow and keras. This type of initialization techniques takes into account the number of inputs to and outputs of each hidden layer. (https://proceedings.mlr.press/v9/glorot10a/glorot10a.pdf)<br>\n",
    "- for **activation with an open upper bound**: use **Kaiming initialization** method, or also called he_normal or he_uniform in tensorflow and keras. This type of initialization techniques takes into account the number of inputs to a hidden layer. (https://openaccess.thecvf.com/content_iccv_2015/papers/He_Delving_Deep_into_ICCV_2015_paper.pdf)<br>      \n",
    "\n",
    "Once the trainable variables have been initialized according to the chosen nonlinearity, the model training can be performed. In the above visualization, we can see that the training of neural networks consists of mainly 4 steps. Conceptually, the most challenging part is related to the computation of the gradients. Luckily, in the second step, one could use GradientTape in tensorflow, a mathematical tool for automatic differentiation. When training neural networks we use mini-batch gradient descent, i.e., we split the data into mini-batches of certain sample size. We loop through the list of mini-batches and computate the gradients w.r.t. to the loss, that each mini-batch of data produces in a training iteration. Alternatives to mini-batch gradient descent are batch and stochastic gradient descent. The former, computes gradients on the loss produced by all training samples, and is therefore very costly, whereas the latter updates the network weights based on the computations performed using a single data sample. The main disadvantage of stochastic gradient descent is that the gradients are very noisy, i.e., a single data sample does not guarantee the accurate approximation of the gradients for the whole network. For this reason, we stick to mini-batch gradient descent. It facilitates more accurate gradient approximation than stochastic gradient descent, and is less costly to compute than batch gradient descent."
   ]
  },
  {
   "cell_type": "code",
   "execution_count": 122,
   "metadata": {},
   "outputs": [],
   "source": [
    "# this will split the data 80-20% by default\n",
    "from sklearn.model_selection import train_test_split\n",
    "\n",
    "x,y=house_prices.drop(['SalePrice'],axis=1),house_prices[['SalePrice']]\n",
    "x_train, x_test, y_train, y_test=train_test_split(x,y,test_size=0.2,random_state=553)\n",
    "x_train, y_train, x_test, y_test=x_train.astype(np.float32), y_train.astype(np.float32), x_test.astype(np.float32), y_test.astype(np.float32)\n",
    "\n",
    "\n",
    "#Reserve the last 246 samples from the train subset forvalidation purposes: \n",
    "x_train,x_val=x_train.iloc[:650,:],x_train.iloc[650:,:]\n",
    "y_train,y_val=y_train.iloc[:650],y_train.iloc[650:]\n",
    "\n",
    "\n",
    "#Rescale the datasets:\n",
    "scaler=StandardScaler()\n",
    "x_train_rescaled=scaler.fit_transform(x_train)\n",
    "x_val_rescaled=scaler.transform(x_val)\n",
    "x_test_rescaled=scaler.transform(x_test)\n",
    "\n",
    "target_scaler=StandardScaler()\n",
    "y_train_rescaled=target_scaler.fit_transform(y_train)\n",
    "y_val_rescaled=target_scaler.transform(y_val)\n",
    "y_test_rescaled=target_scaler.transform(y_test)\n",
    "\n",
    "batch_size=32\n",
    "\n",
    "#Splitting train and test dataset into mini-batches:\n",
    "tf_train_rescaled=tf.data.Dataset.from_tensor_slices((x_train_rescaled,y_train_rescaled)).batch(batch_size)\n",
    "tf_val_rescaled=tf.data.Dataset.from_tensor_slices((x_val_rescaled,y_val_rescaled)).batch(batch_size)\n",
    "tf_test_rescaled=tf.data.Dataset.from_tensor_slices((x_test_rescaled,y_test_rescaled)).batch(batch_size)"
   ]
  },
  {
   "cell_type": "markdown",
   "metadata": {},
   "source": [
    "As we already know from the lecture, regularization techniques help us in preventing overfitting. The latter occurs when, e.g., the model captures non-generalizable information in the input features in the train set. Additionally, overfitting could occur when applying a neural network with high capacity, i.e., a deep neural network consisting of several hidden layers with many units, on a dataset with small sample size. Then, the model is simply too complex for the provided data. In such cases, when implementing neural networks, we could benefit from regularization techniques. In the previous exercise session, we made use of L2 regularization. The lecture also introduced you to dropout-based regularization, which we can revisit using the below illustration:"
   ]
  },
  {
   "cell_type": "markdown",
   "metadata": {},
   "source": [
    "<img src=\"https://github.com/Humboldt-WI/demopy/raw/main/Dropouts.PNG\" width=\"1000\" height=\"650\" alt=\"Dropouts\">"
   ]
  },
  {
   "cell_type": "markdown",
   "metadata": {},
   "source": [
    "During the forward pass, a specific percentage of neurons, i.e., $p$, are masked with 0.0s, which leads to deactivating the entire neural path from the droped out nodes to the output layer. During the backward pass, the corresponding weights do not receive gradients. This prevents the network from learning patterns, which are very specific to the training dataset. Also, dropout regularization prevents the network from relying on a specific node, as the neurons to deactivate with the probability $p$ are randomly chosen during each forward pass with a mini-batch of data. While we benefit from the stochastic nature of dropout-based regularization during training time, during testing time we multiply the already trained weights with $p$ in order to get deterministic outputs. Otherwise, every time we apply our model on the same test dataset, we would get slightly different results.<br>\n",
    "\n",
    "Now that we have revisited dropout-based regularization, we will create the functions for building tensorflow models (using dropouts) and for training the initialized models with GradientTape. Afterward, we will perform the model training by looping through our mini-batches for a pre-determined number of epochs. Concerning the latter, we never know the optimal number of epochs to train our model so that it fits the data well without overfitting. For this reason, it is a common practice to apply early stopping callback on your validation set. This callback terminates the training once no improvement can be observed on the validation subset for several epochs. Once the early stopping callback gets activated and the training is terminated, we will visualize the training vs. the validation loss, in order to examine the model fit."
   ]
  },
  {
   "cell_type": "code",
   "execution_count": 125,
   "metadata": {},
   "outputs": [],
   "source": [
    "def build_tf_model(nr_input_features:int,\n",
    "                   list_units:list,\n",
    "                   dropout_rate:float,\n",
    "                   activation:str)->tf.keras.Model:\n",
    "    ''''\n",
    "    Cerate a (deep) feedforward neural network using the vanilla Dense layers in tensorflow..\n",
    "\n",
    "    Parameters:\n",
    "    -----------\n",
    "    nr_input_features:int\n",
    "        The number of predictor variables, which is important for the initialization of the weights in the first hidden layer.\n",
    "    list_units:list\n",
    "        A list containing the number of hidden units per layer. The length of this list determines the depth of the network.\n",
    "    dropout_rate: float\n",
    "        The ratio of neurons, which will be stochastically deactivated during the forward pass.\n",
    "    activation: str\n",
    "        The nonlinearity to apply in each hidden layer.\n",
    "\n",
    "\n",
    "    Returns:\n",
    "    --------\n",
    "    tf_model: tf.keras.Model\n",
    "        The initialized tensorflow feedforwar neural network.\n",
    "    '''\n",
    "\n",
    "    input_layer=tf.keras.layers.Input(nr_input_features)\n",
    "    hidden_output=input_layer\n",
    "    for hidden_layer_idx in range(0,len(list_units)):\n",
    "        \n",
    "        hidden_output=tf.keras.layers.Dense(units=list_units[hidden_layer_idx],activation=activation,\n",
    "        kernel_initializer=(tf.keras.initializers.HeNormal() if activation=='ReLU' else tf.keras.initializers.GlorotNormal()) )( (input_layer if hidden_layer_idx==0 else hidden_output) )\n",
    "        hidden_output=tf.keras.layers.Dropout(dropout_rate)(hidden_output)\n",
    "\n",
    "    prediction_layer_outputs=tf.keras.layers.Dense(units=1,activation='linear')(hidden_output)\n",
    "\n",
    "    tf_model=tf.keras.Model(inputs=input_layer,outputs=prediction_layer_outputs)\n",
    "\n",
    "    return tf_model\n",
    "\n",
    "def train_test_model(training:bool,\n",
    "                    model:tf.keras.Model,\n",
    "                    x_batch_data:tf.Tensor,\n",
    "                    y_batch_data:tf.Tensor,\n",
    "                    optimizer:None = None)->tf.Tensor:\n",
    "    '''\n",
    "    Trains a (deep) feedforward neural network using the automated differentiation functionality supported by GradientTape.\n",
    "\n",
    "    Parameters:\n",
    "    -----------\n",
    "    training:bool\n",
    "        Whether we are training or testing the model.\n",
    "    model:tf.keras.Model\n",
    "        The feedforward neural network.\n",
    "    x_batch_data: tf.Tensor\n",
    "        The ratio of neurons, which will be stochastically deactivated during the forward pass.\n",
    "    y_batch_data: tf.Tensor\n",
    "        The ratio of neurons, which will be stochastically deactivated during the forward pass.\n",
    "    optimizer: None\n",
    "        The optimizer used during the training process. Since during testing time, we do not need it, the parameters has the input type None.\n",
    "        During training time, parameter would be of the type tf.keras.optimizers.Optimizer.\n",
    "\n",
    "\n",
    "    Returns:\n",
    "    --------\n",
    "    current_batch_loss: tf.Tensor\n",
    "        The initialized tensorflow feedforwar neural network.\n",
    "    '''\n",
    "\n",
    "    if training==True:\n",
    "        with tf.GradientTape() as tape:\n",
    "            predictions_train=model(x_batch_data,training=True)\n",
    "            current_batch_loss=tf.keras.losses.MSE(y_pred=tf.squeeze(predictions_train,axis=-1),y_true=tf.squeeze(y_batch_data,axis=-1))\n",
    "        gradients=tape.gradient(current_batch_loss,model.trainable_variables)#compute weight updates for backward pass\n",
    "        optimizer.apply_gradients(zip(gradients, model.trainable_variables))#apply computed gradients\n",
    "        \n",
    "    else:\n",
    "        predictions_test=model(x_batch_data,training=False)\n",
    "        current_batch_loss=tf.keras.losses.MSE(y_pred=tf.squeeze(predictions_test,axis=-1),y_true=tf.squeeze(y_batch_data,axis=-1))\n",
    "        \n",
    "    return current_batch_loss"
   ]
  },
  {
   "cell_type": "code",
   "execution_count": 131,
   "metadata": {},
   "outputs": [
    {
     "data": {
      "image/png": "[encoded data removed]",
      "text/plain": [
       "<Figure size 700x500 with 1 Axes>"
      ]
     },
     "metadata": {},
     "output_type": "display_data"
    }
   ],
   "source": [
    "#Create the model:\n",
    "tf_model=build_tf_model(nr_input_features=x_train.shape[1],\n",
    "                        list_units=[100,50,10],dropout_rate=0.3,\n",
    "                        activation='relu')\n",
    "\n",
    "#Initialize the optimizer: \n",
    "#A very common choice nowadays for an optimizer is Adam, which supports the functionality of an adaptive learning rates. \n",
    "# The default choice for the initial learning rate in Adam is 0.001, which works for most applications. \n",
    "# Unless you plan to define a range of possible values for the learning rate to tune this hyperparameter, we suggest you go with the default choice. \n",
    "tf_optimizer=tf.keras.optimizers.Adam()\n",
    "\n",
    "\n",
    "#Train and test the model:\n",
    "train_loss_list=[]\n",
    "val_loss_list=[]\n",
    "nr_epochs=100\n",
    "\n",
    "#Early stopping callback:\n",
    "patience = 5\n",
    "wait = 0\n",
    "#We would like to minimize our loss, thus we set the initial best value to inf+\n",
    "best = float('inf')\n",
    "\n",
    "for epoch in range(0,nr_epochs):\n",
    "    epoch_train_loss=[]\n",
    "    epoch_val_loss=[]\n",
    "    #Predictions on Train Set:\n",
    "    for batch_idx,(x_batch_train,y_batch_train) in enumerate(tf_train_rescaled):\n",
    "        train_loss=train_test_model(training=True,\n",
    "                    model=tf_model,\n",
    "                    x_batch_data=x_batch_train,\n",
    "                    y_batch_data=y_batch_train,\n",
    "                    optimizer=tf_optimizer)\n",
    "        epoch_train_loss.append(train_loss.numpy())\n",
    "        \n",
    "    train_loss_list.append(np.mean(epoch_train_loss))\n",
    "\n",
    "    #Predictions on train set:\n",
    "    for batch_idx,(x_batch_val,y_batch_val) in enumerate(tf_val_rescaled):\n",
    "        val_batch_loss=train_test_model(training=False,\n",
    "                    model=tf_model,\n",
    "                    x_batch_data=x_batch_val,\n",
    "                    y_batch_data=y_batch_val)\n",
    "\n",
    "        epoch_val_loss.append(val_batch_loss.numpy())\n",
    "    \n",
    "    epoch_val_loss=np.mean(epoch_val_loss)\n",
    "    val_loss_list.append(epoch_val_loss)\n",
    "\n",
    "    #Early stopping callback:\n",
    "    wait += 1\n",
    "    if epoch_val_loss < best:\n",
    "      best = epoch_val_loss\n",
    "      wait = 0\n",
    "    if wait >= patience:\n",
    "      break\n",
    "    \n",
    "# Visualize the model performance:\n",
    "plt.figure(figsize=(7,5))\n",
    "plt.plot(train_loss_list,label='Train Loss')\n",
    "plt.plot(val_loss_list,label='Val Loss')\n",
    "plt.ylabel('MSE Score')\n",
    "plt.xlabel('Epoch')\n",
    "plt.title('Train vs. Validation Performance')\n",
    "plt.legend()\n",
    "plt.show()\n",
    "plt.close()\n",
    "  \n",
    "            "
   ]
  },
  {
   "cell_type": "markdown",
   "metadata": {},
   "source": [
    "While we set the maximum number of epochs to 100, we need no more than 10-30 epochs. The number of the exact epoch, when the training process is stopped, can vary slightly, when you make multiple runs. Overall, once the early stopping callback is activated, it terminates the training process to prevent us from fitting the model to well on the training subset. In this way, we reduce the risk of overfitting, and we also reduce the number of training epochs significantly in comparison to the maximum number of epochs we defined before the training process."
   ]
  },
  {
   "cell_type": "markdown",
   "metadata": {},
   "source": [
    "## **2. Implementation of deep feed-forward regression neural networks using keras.** <br>(Excercise 1)"
   ]
  },
  {
   "cell_type": "markdown",
   "metadata": {},
   "source": [
    "In this section, you will use the same rescaled train and validation subsets when fitting a keras model implemented with the sequential api. The following link shows an example how to use the sequential api: https://keras.io/api/models/sequential/. Your first task includes the following: <br>\n",
    "- build the same network as in the demo part of this notebook, but with the sequential api, i.e., a feedforward neural network with 3 ReLU-based hidden layers each having 100, 50 and 10 neurons. <br> \n",
    "Since you will be using ReLU in the hidden layers, make sure you initialize the trainable variables with the Kaiming initialization method. After each hidden layer, you should apply a dropout of 30%. \n",
    "- the optimizer should be Adam with the default settings, and the loss function should be MSE. \n",
    "- also, make use of early stopping callback on the validation loss with patience=5 epochs (https://keras.io/api/callbacks/early_stopping/). \n",
    "- set the batch size to 32, and fit the model for a maximum of 100 epochs. Save the training history in the variable 'model_training_history' for visualization purposes.<br> \n",
    "- so far we have created several well-documented functions. Thus, put the code from the demo which generates the train vs. validation performance plot in a well-documented function, which you can call multiple times instead of always copy-pasting the code for the performance visualization.\n",
    "- save the test predictions from the not-tuned model in the variable 'test_pr', which you will use in the third exercise to compare the performance on the test set with hyperparameter tuning."
   ]
  },
  {
   "cell_type": "code",
   "execution_count": null,
   "metadata": {},
   "outputs": [],
   "source": [
    "import keras\n",
    "\n",
    "#Define your early stopping callback:\n",
    "es_callback=keras.callbacks.EarlyStopping(\n",
    "    monitor=\"val_loss\",min_delta=0.1,patience=5,verbose=1,mode=\"min\")\n",
    "\n",
    "#Your keras model using the sequential api:\n",
    "model = keras.Sequential()\n",
    "model.add(keras.Input(shape=(x_train_rescaled.shape[1],)))\n",
    "model.add(keras.layers.Dense(units=100,activation='relu',kernel_initializer='he_normal'))\n",
    "model.add(keras.layers.Dropout(0.3))\n",
    "model.add(keras.layers.Dense(units=50,activation='relu',kernel_initializer='he_normal'))\n",
    "model.add(keras.layers.Dropout(0.3))\n",
    "model.add(keras.layers.Dense(units=10,activation='relu',kernel_initializer='he_normal'))\n",
    "model.add(keras.layers.Dropout(0.3))\n",
    "model.add(keras.layers.Dense(units=1,activation='linear'))\n",
    "model.compile(optimizer=keras.optimizers.Adam(), loss='mse')\n",
    "\n",
    "#Train your model:\n",
    "model_training_history=model.fit(x=x_train_rescaled,\n",
    "                                y=y_train_rescaled,\n",
    "                                validation_data=[x_val_rescaled,y_val_rescaled],epochs=100,\n",
    "                                batch_size=32, callbacks=[es_callback],verbose=0)\n",
    "                \n",
    "\n"
   ]
  },
  {
   "cell_type": "code",
   "execution_count": 147,
   "metadata": {},
   "outputs": [
    {
     "data": {
      "image/png": "[encoded data removed]",
      "text/plain": [
       "<Figure size 700x500 with 1 Axes>"
      ]
     },
     "metadata": {},
     "output_type": "display_data"
    }
   ],
   "source": [
    "#Create a function for visualize the model performance which takes as inputs the train_loss_list val_loss_list:\n",
    "def visualize_performance(train_loss_list:list,\n",
    "                            val_loss_list:list)->None:\n",
    "    '''\n",
    "    Visualizes the training vs. validaiton performance of a feedforward neural network.\n",
    "\n",
    "    Parameters:\n",
    "    -----------\n",
    "    train_loss_list: list\n",
    "        List of epoch train loss values.\n",
    "    val_loss_list: list\n",
    "        List of epoch val loss values.\n",
    "    \n",
    "\n",
    "    Returns: None\n",
    "    '''\n",
    "    plt.figure(figsize=(7,5))\n",
    "    plt.plot(train_loss_list,label='Train Loss')\n",
    "    plt.plot(val_loss_list,label='Val Loss')\n",
    "    plt.ylabel('MSE Score')\n",
    "    plt.xlabel('Epoch')\n",
    "    plt.title('Train vs. Validation Performance')\n",
    "    plt.legend()\n",
    "    plt.show()\n",
    "    plt.close()\n",
    "\n",
    "#Visualize the performance by calling the function.\n",
    "#You can access the training history by calling model_training_history.history...\n",
    "train_loss=model_training_history.history['loss']\n",
    "val_loss=model_training_history.history['val_loss']\n",
    "\n",
    "visualize_performance(train_loss_list=train_loss,\n",
    "                      val_loss_list=val_loss)\n"
   ]
  },
  {
   "cell_type": "code",
   "execution_count": 153,
   "metadata": {},
   "outputs": [
    {
     "name": "stdout",
     "output_type": "stream",
     "text": [
      "Test MSE achieved by not tuned Keras Sequential Model:  0.39177\n"
     ]
    }
   ],
   "source": [
    "test_pr=model.predict(x_test_rescaled,verbose=0)\n",
    "from sklearn.metrics import mean_squared_error\n",
    "print('Test MSE achieved by not tuned Keras Sequential Model: ',round(mean_squared_error(y_true=y_test_rescaled.flatten(),\n",
    "                                                                                y_pred=test_pr.flatten()),5) )"
   ]
  },
  {
   "cell_type": "markdown",
   "metadata": {},
   "source": [
    "## **3. Tuning of deep feed-forward regression neural networks using Keras Tuner.** <br>(Excercise 2)\n",
    "In this section, you will use use the package keras_tuner to tune a neural network built with the sequential api. To keep things consistent, the optimization function should search through the same search space, which we considered in the last exercise session, when performing hyperparameter tuning with optuna. The following links provide you with an example how to implement the objective function for keras tuner, and how to select different types of hyperparameters: https://keras.io/keras_tuner/ and https://keras.io/keras_tuner/api/hyperparameters/. Keras tuner supports different search algorithms. Your task includes the following points:<br>\n",
    "- implement random search using keras tuner with the search space from Exercise 3 in 'DL_Training_and_Tuning_Teacher.ipynb' notebook\n",
    "- extract the best hyperparameter configuration\n",
    "- save the best performing model discovered during the search\n",
    "- compare the results on the test set with vs. without tuning using the MSE score. "
   ]
  },
  {
   "cell_type": "code",
   "execution_count": 148,
   "metadata": {},
   "outputs": [],
   "source": [
    "import keras_tuner"
   ]
  },
  {
   "cell_type": "code",
   "execution_count": 173,
   "metadata": {},
   "outputs": [],
   "source": [
    "def keras_tuner_optimization(hp:keras_tuner.HyperParameters)->keras.Sequential:\n",
    "  '''\n",
    "    Perform hyperparameter tuning using optuna.\n",
    "\n",
    "    Parameters:\n",
    "    -----------\n",
    "    hp:keras_tuner.HyperParameters\n",
    "        A set of different types of keras tuner hyperparameters, which can be sampled during the search.\n",
    "\n",
    "    Returns: \n",
    "    ---------\n",
    "    model: keras.Sequential\n",
    "        The keras model built with the sequential api and the set of sampled hyperparameters in the current trial.\n",
    "    '''\n",
    "    \n",
    "  #Sample the type of activation function to apply in each hidden layer:\n",
    "  current_activation=hp.Choice(\"Activation\",['linear', 'simgoid', 'tanh', 'relu'])\n",
    "  \n",
    "  model = keras.Sequential()\n",
    "  \n",
    "  #Sample number of neurons for a pre-defined maximum number of hidden layers: \n",
    "  # here you need to consider conditional hyperparameters:\n",
    "  max_hidden_layers=3\n",
    "  keep_sampling_hidden_units=True\n",
    "  nr_hidden_layer=0\n",
    "  \n",
    "  while keep_sampling_hidden_units:\n",
    "      if nr_hidden_layer==0:\n",
    "          current_hidden_units=hp.Int(\"Units_hidden_layer_\"+str(nr_hidden_layer), min_value=10, max_value=200,step=10)\n",
    "      else:\n",
    "          current_hidden_units=hp.Int(\"Units_hidden_layer_\"+str(nr_hidden_layer), min_value=0, max_value=200,step=10)\n",
    "      \n",
    "      if current_hidden_units==0 or nr_hidden_layer==max_hidden_layers-1:\n",
    "          keep_sampling_hidden_units=False\n",
    "      \n",
    "      if current_hidden_units!=0:\n",
    "          model.add(keras.layers.Dense(units=current_hidden_units,\n",
    "                    activation=current_activation))\n",
    "          \n",
    "      nr_hidden_layer=nr_hidden_layer+1\n",
    "  \n",
    "  #Add the final prediction layer:\n",
    "  model.add(keras.layers.Dense(1, activation='linear'))\n",
    "  \n",
    "  #Non-conditional hyperparameters:\n",
    "  current_optimizer=hp.Choice(\"Optimizer\",['adam','sgd'])\n",
    "  current_learning_rate=hp.Float(\"Learning_Rate\", min_value=0.0001, max_value=0.001,step=0.0001)\n",
    "  \n",
    "  model.compile(optimizer=(keras.optimizers.Adam(learning_rate=current_learning_rate) if current_optimizer=='adam' else keras.optimizers.SGD(learning_rate=current_learning_rate)),\n",
    "                loss='mse')\n",
    "\n",
    "  return model"
   ]
  },
  {
   "cell_type": "code",
   "execution_count": 160,
   "metadata": {},
   "outputs": [
    {
     "name": "stdout",
     "output_type": "stream",
     "text": [
      "Trial 50 Complete [00h 00m 01s]\n",
      "\n",
      "Best val_loss So Far: 0.29135558009147644\n",
      "Total elapsed time: 00h 02m 32s\n"
     ]
    }
   ],
   "source": [
    "#Build the tuner:\n",
    "tuner = keras_tuner.RandomSearch(keras_tuner_optimization,\n",
    "                     objective='val_loss',\n",
    "                     max_trials=50)\n",
    "#Sample different configurations to explore the search space:\n",
    "tuner.search(x_train_rescaled, y_train_rescaled, epochs=50, validation_data=(x_val_rescaled, y_val_rescaled),\n",
    "callbacks=[es_callback])\n",
    "\n",
    "#Get the best model:\n",
    "best_model = tuner.get_best_models()[0]"
   ]
  },
  {
   "cell_type": "code",
   "execution_count": 169,
   "metadata": {},
   "outputs": [
    {
     "name": "stdout",
     "output_type": "stream",
     "text": [
      "Summary of best hyperparameter configuration: \n",
      " {'Activation': 'relu', 'Units_hidden_layer_0': 200, 'Units_hidden_layer_1': 110, 'Optimizer': 'adam', 'Learning_Rate': 0.0002, 'Units_hidden_layer_2': 190}\n"
     ]
    }
   ],
   "source": [
    "print('Summary of best hyperparameter configuration: \\n',tuner.get_best_hyperparameters()[0].values)"
   ]
  },
  {
   "cell_type": "code",
   "execution_count": 163,
   "metadata": {},
   "outputs": [
    {
     "name": "stdout",
     "output_type": "stream",
     "text": [
      "Test MSE achieved by not tuned Keras Sequential Model:  0.39177\n",
      "Test MSE achieved by tuned Keras Sequential Model:  0.17103\n"
     ]
    }
   ],
   "source": [
    "tuned_keras_pr=best_model.predict(x_test_rescaled,verbose=0)\n",
    "print('Test MSE achieved by not tuned Keras Sequential Model: ',round(mean_squared_error(y_true=y_test_rescaled.flatten(),\n",
    "                                                                                y_pred=test_pr.flatten()),5) )\n",
    "print('Test MSE achieved by tuned Keras Sequential Model: ',round(mean_squared_error(y_true=y_test_rescaled.flatten(),\n",
    "                                                                                y_pred=tuned_keras_pr.flatten()),5) )"
   ]
  },
  {
   "cell_type": "code",
   "execution_count": null,
   "metadata": {},
   "outputs": [],
   "source": []
  }
 ],
 "metadata": {
  "interpreter": {
   "hash": "e2c68f0abcf3705a60d2a1ddd11382db992c60d9e301bdf771b0d9399403a061"
  },
  "kernelspec": {
   "display_name": "Python 3 (ipykernel)",
   "language": "python",
   "name": "python3"
  },
  "language_info": {
   "codemirror_mode": {
    "name": "ipython",
    "version": 3
   },
   "file_extension": ".py",
   "mimetype": "text/x-python",
   "name": "python",
   "nbconvert_exporter": "python",
   "pygments_lexer": "ipython3",
   "version": "3.9.13"
  }
 },
 "nbformat": 4,
 "nbformat_minor": 2
}
